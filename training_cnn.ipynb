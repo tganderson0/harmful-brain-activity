{
 "cells": [
  {
   "cell_type": "code",
   "execution_count": 1,
   "metadata": {},
   "outputs": [
    {
     "name": "stdout",
     "output_type": "stream",
     "text": [
      "Torch: 2.2.2+cu121\n"
     ]
    }
   ],
   "source": [
    "from __future__ import print_function\n",
    "\n",
    "import glob\n",
    "import os\n",
    "import random\n",
    "\n",
    "import matplotlib.pyplot as plt\n",
    "import numpy as np\n",
    "import pandas as pd\n",
    "import torch\n",
    "import torch.nn as nn\n",
    "import torch.nn.functional as F\n",
    "import torch.optim as optim\n",
    "from sklearn.model_selection import train_test_split\n",
    "from torch.optim.lr_scheduler import StepLR\n",
    "from torch.utils.data import DataLoader, Dataset\n",
    "from tqdm.notebook import tqdm\n",
    "tqdm.pandas()\n",
    "pd.options.display.max_colwidth = 10000\n",
    "\n",
    "print(f\"Torch: {torch.__version__}\")"
   ]
  },
  {
   "cell_type": "markdown",
   "metadata": {},
   "source": [
    "## Settings"
   ]
  },
  {
   "cell_type": "code",
   "execution_count": 2,
   "metadata": {},
   "outputs": [],
   "source": [
    "# Training settings\n",
    "batch_size = 64\n",
    "epochs = 20\n",
    "lr = 3e-5\n",
    "gamma = 0.7\n",
    "seed = 42"
   ]
  },
  {
   "cell_type": "code",
   "execution_count": 3,
   "metadata": {},
   "outputs": [],
   "source": [
    "def seed_everything(seed):\n",
    "    random.seed(seed)\n",
    "    os.environ['PYTHONHASHSEED'] = str(seed)\n",
    "    np.random.seed(seed)\n",
    "    torch.manual_seed(seed)\n",
    "    torch.cuda.manual_seed(seed)\n",
    "    torch.cuda.manual_seed_all(seed)\n",
    "    torch.backends.cudnn.deterministic = True\n",
    "\n",
    "seed_everything(seed)"
   ]
  },
  {
   "cell_type": "code",
   "execution_count": 4,
   "metadata": {},
   "outputs": [],
   "source": [
    "device = 'cuda'"
   ]
  },
  {
   "cell_type": "code",
   "execution_count": 5,
   "metadata": {},
   "outputs": [
    {
     "data": {
      "application/vnd.jupyter.widget-view+json": {
       "model_id": "7c47b4a84ab049a49b203970f2b850af",
       "version_major": 2,
       "version_minor": 0
      },
      "text/plain": [
       "  0%|          | 0/106800 [00:00<?, ?it/s]"
      ]
     },
     "metadata": {},
     "output_type": "display_data"
    },
    {
     "data": {
      "application/vnd.jupyter.widget-view+json": {
       "model_id": "72eebfecfb6d459eaa1ad8699ad63a77",
       "version_major": 2,
       "version_minor": 0
      },
      "text/plain": [
       "  0%|          | 0/106800 [00:00<?, ?it/s]"
      ]
     },
     "metadata": {},
     "output_type": "display_data"
    }
   ],
   "source": [
    "base_dir = \"kaggle/input/hms-harmful-brain-activity-classification\"\n",
    "\n",
    "train_df = pd.read_csv(base_dir + \"/train.csv\")\n",
    "train_eeg_path_list = glob.glob(base_dir + \"/train_eegs/*\")\n",
    "train_df['eeg_path'] = train_df['eeg_id'].astype(str).progress_apply(lambda x: [i for i in train_eeg_path_list if x in i][0])\n",
    "train_spectrograms_path_list = glob.glob(base_dir + \"/train_spectrograms/*\")\n",
    "train_df['spectrograms_path'] = train_df['spectrogram_id'].astype(str).progress_apply(lambda x: [i for i in train_spectrograms_path_list if x in i][0])\n",
    "\n",
    "class_names = ['Seizure', 'LPD', 'GPD', 'LRDA','GRDA', 'Other']\n",
    "label2name = dict(enumerate(class_names))\n",
    "name2label = {v:k for k, v in label2name.items()}\n",
    "train_df['class_name'] = train_df.expert_consensus.copy()\n",
    "train_df['class_label'] = train_df.expert_consensus.map(name2label)"
   ]
  },
  {
   "cell_type": "code",
   "execution_count": 6,
   "metadata": {},
   "outputs": [
    {
     "name": "stdout",
     "output_type": "stream",
     "text": [
      "Train Data: 68352\n",
      "Validation Data: 17088\n",
      "Test Data: 21360\n"
     ]
    }
   ],
   "source": [
    "train_valid, test_list = train_test_split(train_df, test_size=0.2, random_state=seed)\n",
    "train_list, valid_list = train_test_split(train_valid, test_size=0.2, random_state=seed)\n",
    "\n",
    "print(f\"Train Data: {len(train_list)}\")\n",
    "print(f\"Validation Data: {len(valid_list)}\")\n",
    "print(f\"Test Data: {len(test_list)}\")"
   ]
  },
  {
   "cell_type": "markdown",
   "metadata": {},
   "source": [
    "### Parquet to NPY"
   ]
  },
  {
   "cell_type": "code",
   "execution_count": 7,
   "metadata": {},
   "outputs": [],
   "source": [
    "def parquet_to_numpy(parquet_path):\n",
    "    # Read the Parquet file into a DataFrame\n",
    "    spec_df = pd.read_parquet(parquet_path)\n",
    "    \n",
    "    # Process the DataFrame to convert it into a numpy array\n",
    "    spec_array = spec_df.fillna(0).values[:, 1:].T  # fill NaN values with 0, transpose for (Time, Freq) -> (Freq, Time)\n",
    "    spec_array = np.pad(spec_array, ((0, 0), (0, max(400-spec_array.shape[1], 0))), \"constant\", constant_values=0)\n",
    "    spec_array = spec_array.astype(\"float32\")\n",
    "    spec_array.resize((400, 400), refcheck=False)\n",
    "    \n",
    "    return np.expand_dims(spec_array, 0)"
   ]
  },
  {
   "cell_type": "code",
   "execution_count": 8,
   "metadata": {},
   "outputs": [],
   "source": [
    "def preprocess_spectrogram(image_array):\n",
    "\n",
    "    # Normalization: Ensures that the pixel values are within a certain range\n",
    "    # This helps in stabilizing the training process and ensures faster convergence\n",
    "    image_array = image_array.astype('float32')\n",
    "    image_array -= np.min(image_array)\n",
    "    image_array /= np.max(image_array) + 1e-4\n",
    "    \n",
    "    # Log Transformation: Enhances contrast and reduces the effect of outliers\n",
    "    # It helps in better visualization of the spectrogram features\n",
    "    image_array = np.log(image_array + 1e-4)\n",
    "    \n",
    "    # Mean Subtraction: Centers the data around zero\n",
    "    # This helps in reducing bias and improving the stability of the model\n",
    "    mean = np.mean(image_array)\n",
    "    image_array -= mean\n",
    "    \n",
    "    # Standardization: Scales the data to have zero mean and unit variance\n",
    "    # It ensures that all features are on a similar scale, which can improve model performance\n",
    "    std = np.std(image_array)\n",
    "    image_array /= std + 1e-6\n",
    "    \n",
    "    return image_array"
   ]
  },
  {
   "cell_type": "code",
   "execution_count": 9,
   "metadata": {},
   "outputs": [
    {
     "data": {
      "text/plain": [
       "array([[[14.91, 11.13, 10.88, ...,  0.  ,  0.  ,  0.  ],\n",
       "        [17.11, 10.95, 10.57, ...,  0.  ,  0.  ,  0.  ],\n",
       "        [11.66, 10.77,  8.79, ...,  0.  ,  0.  ,  0.  ],\n",
       "        ...,\n",
       "        [ 0.05,  0.03,  0.05, ...,  0.  ,  0.  ,  0.  ],\n",
       "        [ 0.04,  0.03,  0.06, ...,  0.  ,  0.  ,  0.  ],\n",
       "        [ 0.05,  0.02,  0.06, ...,  0.  ,  0.  ,  0.  ]]], dtype=float32)"
      ]
     },
     "execution_count": 9,
     "metadata": {},
     "output_type": "execute_result"
    }
   ],
   "source": [
    "spec_path = base_dir + \"/test_spectrograms/853520.parquet\"\n",
    "spec_array = parquet_to_numpy(spec_path)\n",
    "spec_array"
   ]
  },
  {
   "cell_type": "code",
   "execution_count": 10,
   "metadata": {},
   "outputs": [],
   "source": [
    "image_array = np.random.rand(400, 300)\n",
    "\n",
    "preprocessed_image = preprocess_spectrogram(spec_array)\n",
    "\n",
    "#plt.imshow(spec_array)"
   ]
  },
  {
   "cell_type": "code",
   "execution_count": 11,
   "metadata": {},
   "outputs": [],
   "source": [
    "#plt.imshow(preprocessed_image)"
   ]
  },
  {
   "cell_type": "markdown",
   "metadata": {},
   "source": [
    "## Data loader"
   ]
  },
  {
   "cell_type": "code",
   "execution_count": 12,
   "metadata": {},
   "outputs": [],
   "source": [
    "class HmsDataset(Dataset):\n",
    "  def __init__(self, df: pd.DataFrame):\n",
    "    self.__df = df\n",
    "    \n",
    "  \n",
    "  def __len__(self):\n",
    "    return self.__df.shape[0]\n",
    "  \n",
    "  def __getitem__(self, idx):\n",
    "    val = self.__df.iloc[idx]\n",
    "    spec_path = val[\"spectrograms_path\"]\n",
    "    return preprocess_spectrogram(parquet_to_numpy(spec_path)), val[\"class_label\"]"
   ]
  },
  {
   "cell_type": "code",
   "execution_count": 13,
   "metadata": {},
   "outputs": [],
   "source": [
    "train_data = HmsDataset(train_list)\n",
    "valid_data = HmsDataset(valid_list)\n",
    "test_data = HmsDataset(test_list)\n",
    "\n",
    "train_loader = DataLoader(dataset=train_data, batch_size=batch_size, shuffle=True)\n",
    "valid_loader = DataLoader(dataset=valid_data, batch_size=batch_size, shuffle=True)\n",
    "test_loader = DataLoader(dataset=test_data, batch_size=batch_size, shuffle=True)"
   ]
  },
  {
   "cell_type": "code",
   "execution_count": 14,
   "metadata": {},
   "outputs": [
    {
     "name": "stdout",
     "output_type": "stream",
     "text": [
      "68352 1068\n"
     ]
    }
   ],
   "source": [
    "print(len(train_data), len(train_loader))"
   ]
  },
  {
   "cell_type": "code",
   "execution_count": 15,
   "metadata": {},
   "outputs": [
    {
     "name": "stdout",
     "output_type": "stream",
     "text": [
      "17088 267\n"
     ]
    }
   ],
   "source": [
    "print(len(valid_data), len(valid_loader))"
   ]
  },
  {
   "cell_type": "code",
   "execution_count": 16,
   "metadata": {},
   "outputs": [
    {
     "name": "stdout",
     "output_type": "stream",
     "text": [
      "21360 334\n"
     ]
    }
   ],
   "source": [
    "print(len(test_data), len(test_loader))"
   ]
  },
  {
   "cell_type": "markdown",
   "metadata": {},
   "source": [
    "## Model"
   ]
  },
  {
   "cell_type": "code",
   "execution_count": 17,
   "metadata": {},
   "outputs": [],
   "source": [
    "\n",
    "from cnn_model import CNN"
   ]
  },
  {
   "cell_type": "code",
   "execution_count": 18,
   "metadata": {},
   "outputs": [
    {
     "data": {
      "text/plain": [
       "CNN(\n",
       "  (conv1): Conv2d(1, 6, kernel_size=(5, 5), stride=(1, 1))\n",
       "  (pool): MaxPool2d(kernel_size=2, stride=2, padding=0, dilation=1, ceil_mode=False)\n",
       "  (conv2): Conv2d(6, 16, kernel_size=(5, 5), stride=(1, 1))\n",
       "  (fc1): Linear(in_features=150544, out_features=120, bias=True)\n",
       "  (fc2): Linear(in_features=120, out_features=84, bias=True)\n",
       "  (fc3): Linear(in_features=84, out_features=6, bias=True)\n",
       ")"
      ]
     },
     "execution_count": 18,
     "metadata": {},
     "output_type": "execute_result"
    }
   ],
   "source": [
    "model = CNN(len(class_names))\n",
    "model.to(device)"
   ]
  },
  {
   "cell_type": "markdown",
   "metadata": {},
   "source": [
    "# Training"
   ]
  },
  {
   "cell_type": "code",
   "execution_count": 19,
   "metadata": {},
   "outputs": [],
   "source": [
    "# loss function\n",
    "criterion = nn.CrossEntropyLoss()\n",
    "# optimizer\n",
    "optimizer = optim.Adam(model.parameters(), lr=lr)\n",
    "# scheduler\n",
    "scheduler = StepLR(optimizer, step_size=1, gamma=gamma)\n",
    "\n",
    "# Test save\n",
    "torch.save(model.state_dict(), f\"models/cnn_test.pt\")"
   ]
  },
  {
   "cell_type": "code",
   "execution_count": 20,
   "metadata": {},
   "outputs": [
    {
     "data": {
      "application/vnd.jupyter.widget-view+json": {
       "model_id": "0d4ab237714b4687b2364877a9b1a9b3",
       "version_major": 2,
       "version_minor": 0
      },
      "text/plain": [
       "  0%|          | 0/1068 [00:00<?, ?it/s]"
      ]
     },
     "metadata": {},
     "output_type": "display_data"
    },
    {
     "name": "stdout",
     "output_type": "stream",
     "text": [
      "Epoch : 1 - loss : 1.1995 - acc: 0.5565 - val_loss : 0.9865 - val_acc: 0.6372\n",
      "\n",
      "Saved model in models/cnn_model_epoch_1_val_acc_0.6372.pt\n"
     ]
    },
    {
     "data": {
      "application/vnd.jupyter.widget-view+json": {
       "model_id": "37985a1634da413093604bf84c550825",
       "version_major": 2,
       "version_minor": 0
      },
      "text/plain": [
       "  0%|          | 0/1068 [00:00<?, ?it/s]"
      ]
     },
     "metadata": {},
     "output_type": "display_data"
    },
    {
     "name": "stdout",
     "output_type": "stream",
     "text": [
      "Epoch : 2 - loss : 0.8465 - acc: 0.7039 - val_loss : 0.7768 - val_acc: 0.7314\n",
      "\n",
      "Saved model in models/cnn_model_epoch_2_val_acc_0.7314.pt\n"
     ]
    },
    {
     "data": {
      "application/vnd.jupyter.widget-view+json": {
       "model_id": "e2acb1cb9e60476b88c39e9a62667ce9",
       "version_major": 2,
       "version_minor": 0
      },
      "text/plain": [
       "  0%|          | 0/1068 [00:00<?, ?it/s]"
      ]
     },
     "metadata": {},
     "output_type": "display_data"
    },
    {
     "name": "stdout",
     "output_type": "stream",
     "text": [
      "Epoch : 3 - loss : 0.7004 - acc: 0.7571 - val_loss : 0.6559 - val_acc: 0.7810\n",
      "\n",
      "Saved model in models/cnn_model_epoch_3_val_acc_0.7810.pt\n"
     ]
    },
    {
     "data": {
      "application/vnd.jupyter.widget-view+json": {
       "model_id": "d635d1bd771340e9958546e21a529507",
       "version_major": 2,
       "version_minor": 0
      },
      "text/plain": [
       "  0%|          | 0/1068 [00:00<?, ?it/s]"
      ]
     },
     "metadata": {},
     "output_type": "display_data"
    },
    {
     "name": "stdout",
     "output_type": "stream",
     "text": [
      "Epoch : 4 - loss : 0.6061 - acc: 0.7932 - val_loss : 0.6008 - val_acc: 0.7994\n",
      "\n",
      "Saved model in models/cnn_model_epoch_4_val_acc_0.7994.pt\n"
     ]
    },
    {
     "data": {
      "application/vnd.jupyter.widget-view+json": {
       "model_id": "a3fc9ee67be04afeb59b3e7b427bd82a",
       "version_major": 2,
       "version_minor": 0
      },
      "text/plain": [
       "  0%|          | 0/1068 [00:00<?, ?it/s]"
      ]
     },
     "metadata": {},
     "output_type": "display_data"
    },
    {
     "name": "stdout",
     "output_type": "stream",
     "text": [
      "Epoch : 5 - loss : 0.5393 - acc: 0.8158 - val_loss : 0.5481 - val_acc: 0.8145\n",
      "\n",
      "Saved model in models/cnn_model_epoch_5_val_acc_0.8145.pt\n"
     ]
    },
    {
     "data": {
      "application/vnd.jupyter.widget-view+json": {
       "model_id": "0cfc116214744fa99172c59d72fd970a",
       "version_major": 2,
       "version_minor": 0
      },
      "text/plain": [
       "  0%|          | 0/1068 [00:00<?, ?it/s]"
      ]
     },
     "metadata": {},
     "output_type": "display_data"
    },
    {
     "name": "stdout",
     "output_type": "stream",
     "text": [
      "Epoch : 6 - loss : 0.4834 - acc: 0.8358 - val_loss : 0.5134 - val_acc: 0.8298\n",
      "\n",
      "Saved model in models/cnn_model_epoch_6_val_acc_0.8298.pt\n"
     ]
    },
    {
     "data": {
      "application/vnd.jupyter.widget-view+json": {
       "model_id": "1f659ba6ee8c40fd9141688eaf71e78f",
       "version_major": 2,
       "version_minor": 0
      },
      "text/plain": [
       "  0%|          | 0/1068 [00:00<?, ?it/s]"
      ]
     },
     "metadata": {},
     "output_type": "display_data"
    },
    {
     "name": "stdout",
     "output_type": "stream",
     "text": [
      "Epoch : 7 - loss : 0.4399 - acc: 0.8517 - val_loss : 0.4901 - val_acc: 0.8340\n",
      "\n",
      "Saved model in models/cnn_model_epoch_7_val_acc_0.8340.pt\n"
     ]
    },
    {
     "data": {
      "application/vnd.jupyter.widget-view+json": {
       "model_id": "d9759ce34fb4450c846264ed7a2c9ecb",
       "version_major": 2,
       "version_minor": 0
      },
      "text/plain": [
       "  0%|          | 0/1068 [00:00<?, ?it/s]"
      ]
     },
     "metadata": {},
     "output_type": "display_data"
    },
    {
     "name": "stdout",
     "output_type": "stream",
     "text": [
      "Epoch : 8 - loss : 0.4071 - acc: 0.8627 - val_loss : 0.4352 - val_acc: 0.8533\n",
      "\n",
      "Saved model in models/cnn_model_epoch_8_val_acc_0.8533.pt\n"
     ]
    },
    {
     "data": {
      "application/vnd.jupyter.widget-view+json": {
       "model_id": "412e1c72c17d4affb85a8ebf877a912c",
       "version_major": 2,
       "version_minor": 0
      },
      "text/plain": [
       "  0%|          | 0/1068 [00:00<?, ?it/s]"
      ]
     },
     "metadata": {},
     "output_type": "display_data"
    },
    {
     "name": "stdout",
     "output_type": "stream",
     "text": [
      "Epoch : 9 - loss : 0.3764 - acc: 0.8730 - val_loss : 0.4070 - val_acc: 0.8662\n",
      "\n",
      "Saved model in models/cnn_model_epoch_9_val_acc_0.8662.pt\n"
     ]
    },
    {
     "data": {
      "application/vnd.jupyter.widget-view+json": {
       "model_id": "cdefeac0078a4ee0aa57130023b17503",
       "version_major": 2,
       "version_minor": 0
      },
      "text/plain": [
       "  0%|          | 0/1068 [00:00<?, ?it/s]"
      ]
     },
     "metadata": {},
     "output_type": "display_data"
    },
    {
     "name": "stdout",
     "output_type": "stream",
     "text": [
      "Epoch : 10 - loss : 0.3487 - acc: 0.8814 - val_loss : 0.4220 - val_acc: 0.8524\n",
      "\n",
      "Saved model in models/cnn_model_epoch_10_val_acc_0.8524.pt\n"
     ]
    },
    {
     "data": {
      "application/vnd.jupyter.widget-view+json": {
       "model_id": "aa476510788046ccbc88fac93898b054",
       "version_major": 2,
       "version_minor": 0
      },
      "text/plain": [
       "  0%|          | 0/1068 [00:00<?, ?it/s]"
      ]
     },
     "metadata": {},
     "output_type": "display_data"
    },
    {
     "name": "stdout",
     "output_type": "stream",
     "text": [
      "Epoch : 11 - loss : 0.3316 - acc: 0.8878 - val_loss : 0.3904 - val_acc: 0.8689\n",
      "\n",
      "Saved model in models/cnn_model_epoch_11_val_acc_0.8689.pt\n"
     ]
    },
    {
     "data": {
      "application/vnd.jupyter.widget-view+json": {
       "model_id": "9f4eb89789f6454eb84c348f5634f220",
       "version_major": 2,
       "version_minor": 0
      },
      "text/plain": [
       "  0%|          | 0/1068 [00:00<?, ?it/s]"
      ]
     },
     "metadata": {},
     "output_type": "display_data"
    },
    {
     "name": "stdout",
     "output_type": "stream",
     "text": [
      "Epoch : 12 - loss : 0.3103 - acc: 0.8927 - val_loss : 0.3726 - val_acc: 0.8783\n",
      "\n",
      "Saved model in models/cnn_model_epoch_12_val_acc_0.8783.pt\n"
     ]
    },
    {
     "data": {
      "application/vnd.jupyter.widget-view+json": {
       "model_id": "daee0479e8de4648bcd1a752461df108",
       "version_major": 2,
       "version_minor": 0
      },
      "text/plain": [
       "  0%|          | 0/1068 [00:00<?, ?it/s]"
      ]
     },
     "metadata": {},
     "output_type": "display_data"
    },
    {
     "name": "stdout",
     "output_type": "stream",
     "text": [
      "Epoch : 13 - loss : 0.2931 - acc: 0.8982 - val_loss : 0.3437 - val_acc: 0.8884\n",
      "\n",
      "Saved model in models/cnn_model_epoch_13_val_acc_0.8884.pt\n"
     ]
    },
    {
     "data": {
      "application/vnd.jupyter.widget-view+json": {
       "model_id": "573e419f915e431fa36e5ddd314cd129",
       "version_major": 2,
       "version_minor": 0
      },
      "text/plain": [
       "  0%|          | 0/1068 [00:00<?, ?it/s]"
      ]
     },
     "metadata": {},
     "output_type": "display_data"
    },
    {
     "name": "stdout",
     "output_type": "stream",
     "text": [
      "Epoch : 14 - loss : 0.2854 - acc: 0.9009 - val_loss : 0.3387 - val_acc: 0.8906\n",
      "\n",
      "Saved model in models/cnn_model_epoch_14_val_acc_0.8906.pt\n"
     ]
    },
    {
     "data": {
      "application/vnd.jupyter.widget-view+json": {
       "model_id": "d7e6c2155c6143c39bac10de8518264b",
       "version_major": 2,
       "version_minor": 0
      },
      "text/plain": [
       "  0%|          | 0/1068 [00:00<?, ?it/s]"
      ]
     },
     "metadata": {},
     "output_type": "display_data"
    },
    {
     "name": "stdout",
     "output_type": "stream",
     "text": [
      "Epoch : 15 - loss : 0.2710 - acc: 0.9029 - val_loss : 0.3297 - val_acc: 0.8914\n",
      "\n",
      "Saved model in models/cnn_model_epoch_15_val_acc_0.8914.pt\n"
     ]
    },
    {
     "data": {
      "application/vnd.jupyter.widget-view+json": {
       "model_id": "0456c292f2d84252b53853b10ecec4c8",
       "version_major": 2,
       "version_minor": 0
      },
      "text/plain": [
       "  0%|          | 0/1068 [00:00<?, ?it/s]"
      ]
     },
     "metadata": {},
     "output_type": "display_data"
    },
    {
     "name": "stdout",
     "output_type": "stream",
     "text": [
      "Epoch : 16 - loss : 0.2629 - acc: 0.9059 - val_loss : 0.3220 - val_acc: 0.8951\n",
      "\n",
      "Saved model in models/cnn_model_epoch_16_val_acc_0.8951.pt\n"
     ]
    },
    {
     "data": {
      "application/vnd.jupyter.widget-view+json": {
       "model_id": "a236acb4e56f4bd0bc0ff3f5f6c0f534",
       "version_major": 2,
       "version_minor": 0
      },
      "text/plain": [
       "  0%|          | 0/1068 [00:00<?, ?it/s]"
      ]
     },
     "metadata": {},
     "output_type": "display_data"
    },
    {
     "name": "stdout",
     "output_type": "stream",
     "text": [
      "Epoch : 17 - loss : 0.2541 - acc: 0.9092 - val_loss : 0.3275 - val_acc: 0.8979\n",
      "\n",
      "Saved model in models/cnn_model_epoch_17_val_acc_0.8979.pt\n"
     ]
    },
    {
     "data": {
      "application/vnd.jupyter.widget-view+json": {
       "model_id": "d907c4bcde9f4824916527a56f16d656",
       "version_major": 2,
       "version_minor": 0
      },
      "text/plain": [
       "  0%|          | 0/1068 [00:00<?, ?it/s]"
      ]
     },
     "metadata": {},
     "output_type": "display_data"
    },
    {
     "name": "stdout",
     "output_type": "stream",
     "text": [
      "Epoch : 18 - loss : 0.2455 - acc: 0.9113 - val_loss : 0.3159 - val_acc: 0.8947\n",
      "\n",
      "Saved model in models/cnn_model_epoch_18_val_acc_0.8947.pt\n"
     ]
    },
    {
     "data": {
      "application/vnd.jupyter.widget-view+json": {
       "model_id": "12459a958f5848988ebb0b889ad204b7",
       "version_major": 2,
       "version_minor": 0
      },
      "text/plain": [
       "  0%|          | 0/1068 [00:00<?, ?it/s]"
      ]
     },
     "metadata": {},
     "output_type": "display_data"
    },
    {
     "name": "stdout",
     "output_type": "stream",
     "text": [
      "Epoch : 19 - loss : 0.2407 - acc: 0.9115 - val_loss : 0.3256 - val_acc: 0.8926\n",
      "\n",
      "Saved model in models/cnn_model_epoch_19_val_acc_0.8926.pt\n"
     ]
    },
    {
     "data": {
      "application/vnd.jupyter.widget-view+json": {
       "model_id": "8324a2b5754241d3a5a07b6ec34d5f5a",
       "version_major": 2,
       "version_minor": 0
      },
      "text/plain": [
       "  0%|          | 0/1068 [00:00<?, ?it/s]"
      ]
     },
     "metadata": {},
     "output_type": "display_data"
    },
    {
     "name": "stdout",
     "output_type": "stream",
     "text": [
      "Epoch : 20 - loss : 0.2342 - acc: 0.9135 - val_loss : 0.2979 - val_acc: 0.9001\n",
      "\n",
      "Saved model in models/cnn_model_epoch_20_val_acc_0.9001.pt\n"
     ]
    }
   ],
   "source": [
    "for epoch in range(epochs):\n",
    "    epoch_loss = 0\n",
    "    epoch_accuracy = 0\n",
    "\n",
    "    for data, label in tqdm(train_loader):\n",
    "        data = data.to(device)\n",
    "        label = label.to(device)\n",
    "\n",
    "        output = model(data)\n",
    "        loss = criterion(output, label)\n",
    "\n",
    "        optimizer.zero_grad()\n",
    "        loss.backward()\n",
    "        optimizer.step()\n",
    "\n",
    "        acc = (output.argmax(dim=1) == label).float().mean()\n",
    "        epoch_accuracy += acc / len(train_loader)\n",
    "        epoch_loss += loss / len(train_loader)\n",
    "\n",
    "    with torch.no_grad():\n",
    "        epoch_val_accuracy = 0\n",
    "        epoch_val_loss = 0\n",
    "        for data, label in valid_loader:\n",
    "            data = data.to(device)\n",
    "            label = label.to(device)\n",
    "\n",
    "            val_output = model(data)\n",
    "            val_loss = criterion(val_output, label)\n",
    "\n",
    "            acc = (val_output.argmax(dim=1) == label).float().mean()\n",
    "            epoch_val_accuracy += acc / len(valid_loader)\n",
    "            epoch_val_loss += val_loss / len(valid_loader)\n",
    "\n",
    "    print(\n",
    "        f\"Epoch : {epoch+1} - loss : {epoch_loss:.4f} - acc: {epoch_accuracy:.4f} - val_loss : {epoch_val_loss:.4f} - val_acc: {epoch_val_accuracy:.4f}\\n\"\n",
    "    )\n",
    "    torch.save(model.state_dict(), f\"models/cnn_model_epoch_{epoch + 1}_val_acc_{epoch_val_accuracy:.4f}.pt\")\n",
    "    print(f\"Saved model in models/cnn_model_epoch_{epoch + 1}_val_acc_{epoch_val_accuracy:.4f}.pt\")"
   ]
  },
  {
   "cell_type": "markdown",
   "metadata": {},
   "source": [
    "# Test"
   ]
  },
  {
   "cell_type": "code",
   "execution_count": 22,
   "metadata": {},
   "outputs": [],
   "source": [
    "test_model = CNN(len(class_names))\n",
    "test_model.load_state_dict(torch.load(\"models/cnn_model_epoch_20_val_acc_0.9001.pt\"))\n",
    "test_model.eval()\n",
    "test_model = test_model.to(device)"
   ]
  },
  {
   "cell_type": "code",
   "execution_count": 23,
   "metadata": {},
   "outputs": [
    {
     "data": {
      "application/vnd.jupyter.widget-view+json": {
       "model_id": "65e7f94d19844c09afe28c92f1ad5f5a",
       "version_major": 2,
       "version_minor": 0
      },
      "text/plain": [
       "  0%|          | 0/334 [00:00<?, ?it/s]"
      ]
     },
     "metadata": {},
     "output_type": "display_data"
    },
    {
     "name": "stdout",
     "output_type": "stream",
     "text": [
      "Loss : 0.3987 - Accuracy: 0.9021\n",
      "\n"
     ]
    }
   ],
   "source": [
    "with torch.no_grad():\n",
    "  test_accuracy = 0\n",
    "  test_total_loss = 0\n",
    "  for data, label in tqdm(test_loader):\n",
    "      data = data.to(device)\n",
    "      label = label.to(device)\n",
    "\n",
    "      test_output = test_model(data)\n",
    "      test_loss = criterion(test_output, label)\n",
    "\n",
    "      acc = (test_output.argmax(dim=1) == label).float().mean()\n",
    "      test_accuracy += acc / len(test_loader)\n",
    "      test_total_loss += val_loss / len(test_loader)\n",
    "\n",
    "  print(\n",
    "      f\"Loss : {test_total_loss:.4f} - Accuracy: {test_accuracy:.4f}\\n\"\n",
    "  )"
   ]
  }
 ],
 "metadata": {
  "kernelspec": {
   "display_name": "Python 3",
   "language": "python",
   "name": "python3"
  },
  "language_info": {
   "codemirror_mode": {
    "name": "ipython",
    "version": 3
   },
   "file_extension": ".py",
   "mimetype": "text/x-python",
   "name": "python",
   "nbconvert_exporter": "python",
   "pygments_lexer": "ipython3",
   "version": "3.10.12"
  }
 },
 "nbformat": 4,
 "nbformat_minor": 2
}
